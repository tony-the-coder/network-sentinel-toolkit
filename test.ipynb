{
 "cells": [
  {
   "cell_type": "code",
   "execution_count": null,
   "metadata": {},
   "outputs": [],
   "source": [
    "import socket\n",
    "\n",
    "def scan_ports(target_ip, port):\n",
    "    \"\"\"Attempts to make a connection to the target IP and port number and sets a time of two seconds. If the connection is successful, the port is open. If the connection is unsuccessful, the port is closed.\"\"\"\n",
    "\n",
    "    try:\n",
    "        sock = socket.socket(socket.AF_INET, socket.SOCK_STREAM)\n",
    "        sock.settimeout(2)\n",
    "        result = sock.connect_ex((target_ip, port))\n",
    "\n",
    "        if result == 0:\n",
    "            return \"Open\"\n",
    "        else:\n",
    "            return \"Closed\"\n",
    "    except socket.error:\n",
    "        return \"Error\"\n",
    "\n",
    "if __name__ == \"__main__\":\n",
    "    target_ip = \"8.8.8.8\"\n",
    "    port = 80\n",
    "\n",
    "    status = scan_ports(target_ip, port)\n",
    "    print(f\"Port {port} is {status}\")\n"
   ]
  }
 ],
 "metadata": {
  "kernelspec": {
   "display_name": ".venv",
   "language": "python",
   "name": "python3"
  },
  "language_info": {
   "codemirror_mode": {
    "name": "ipython",
    "version": 3
   },
   "file_extension": ".py",
   "mimetype": "text/x-python",
   "name": "python",
   "nbconvert_exporter": "python",
   "pygments_lexer": "ipython3",
   "version": "3.12.3"
  }
 },
 "nbformat": 4,
 "nbformat_minor": 2
}
